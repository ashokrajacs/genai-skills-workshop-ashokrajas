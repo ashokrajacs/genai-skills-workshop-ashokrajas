{
  "cells": [
    {
      "cell_type": "code",
      "execution_count": 11,
      "id": "oxh75NA1ekeMGq65op7rY7Kn",
      "metadata": {
        "id": "oxh75NA1ekeMGq65op7rY7Kn",
        "tags": []
      },
      "outputs": [],
      "source": [
        "#install \n",
        "!pip install -q google-cloud-aiplatform pytest\n"
      ]
    },
    {
      "cell_type": "code",
      "execution_count": 12,
      "id": "IFbaqczlw6E2",
      "metadata": {
        "colab": {
          "base_uri": "https://localhost:8080/"
        },
        "id": "IFbaqczlw6E2",
        "outputId": "2590f2cb-4ee8-49e7-83eb-9bac77e6d6ed"
      },
      "outputs": [
        {
          "name": "stdout",
          "output_type": "stream",
          "text": [
            "Setup complete\n"
          ]
        }
      ],
      "source": [
        "import os\n",
        "import json\n",
        "import pytest\n",
        "from typing import Dict\n",
        "import vertexai\n",
        "from vertexai.generative_models import GenerativeModel\n",
        "from vertexai.evaluation import EvalTask, MetricPromptTemplateExamples\n",
        "import pandas as pd\n",
        "# add project id\n",
        "PROJECT_ID = \"qwiklabs-gcp-03-09074de52727\"\n",
        "vertexai.init(project=PROJECT_ID, location=\"us-central1\")\n",
        "model = GenerativeModel(\"gemini-2.0-flash-exp\")\n",
        "\n",
        "print(\"Setup complete\")"
      ]
    },
    {
      "cell_type": "code",
      "execution_count": 13,
      "id": "RYWWYMC1w8uf",
      "metadata": {
        "id": "RYWWYMC1w8uf"
      },
      "outputs": [],
      "source": [
        "def classify_question(question):\n",
        "    system_prompt = \"\"\"\n",
        "    You are a helpful AI Assistant. Your task is to classify user questions into one of the following categories:\n",
        "\n",
        "    1. Employment\n",
        "    2. General Information\n",
        "    3. Emergency Services\n",
        "    4. Tax Related\n",
        "\n",
        "    If a specific category cannot be determined, assign the category: 'General Information'.\n",
        "\n",
        "    Your response must include **only** the category name — no additional text.\n",
        "\n",
        "    Example:\n",
        "    Question: What is the ambulance contact number?\n",
        "    Answer: Emergency Services\n",
        "    \"\"\"\n",
        "\n",
        "    try:\n",
        "        response = model.generate_content(f\"{system_prompt}\\n\\nQuestion: {question}\")\n",
        "        category = response.text.strip()\n",
        "\n",
        "        valid_categories = [\"Employment\", \"General Information\", \"Emergency Services\", \"Tax Related\"]\n",
        "        for valid_cat in valid_categories:\n",
        "            if valid_cat.lower() in category.lower():\n",
        "                return valid_cat\n",
        "\n",
        "        return \"General Information\"\n",
        "    except:\n",
        "        return \"General Information\""
      ]
    },
    {
      "cell_type": "code",
      "execution_count": 14,
      "id": "8xxzvrkVxNLK",
      "metadata": {
        "id": "8xxzvrkVxNLK"
      },
      "outputs": [],
      "source": [
        "def generate_social_media_post(announcement_type, details, platform=\"all\"):\n",
        "    system_prompt = \"\"\"\n",
        "    You are a communications assistant for a government agency. Your task is to draft clear, concise, and polite social media posts for official public announcements.\n",
        "\n",
        "    Instructions:\n",
        "    1. Keep the message under 200 words.\n",
        "    2. Use a calm, professional, and reassuring tone.\n",
        "    3. Clearly state what the announcement is about, who it affects, and when it applies.\n",
        "    4. Include basic safety tips or recommended actions if applicable.\n",
        "    5. Use simple, accessible language.\n",
        "    6. End with 2-4 relevant hashtags.\n",
        "    7. Do not use emojis.\n",
        "\n",
        "    Only return the post text with hashtags at the end.\n",
        "    \"\"\"\n",
        "# create the post\n",
        "    prompt = f\"\"\"\n",
        "    Create a social media post for {announcement_type}.\n",
        "    Details: {json.dumps(details)}\n",
        "    Platform: {platform}\n",
        "    \"\"\"\n",
        "\n",
        "    try:\n",
        "        response = model.generate_content(f\"{system_prompt}\\n\\n{prompt}\")\n",
        "        return {\n",
        "            \"status\": \"success\",\n",
        "            \"generated_content\": {\"posts\": {\"twitter\": response.text.strip()}},\n",
        "            \"raw_response\": response.text\n",
        "        }\n",
        "    except Exception as e:\n",
        "        return {\"status\": \"error\", \"error\": str(e), \"generated_content\": None}"
      ]
    },
    {
      "cell_type": "code",
      "execution_count": 15,
      "id": "VSSkPTRlxP8F",
      "metadata": {
        "colab": {
          "base_uri": "https://localhost:8080/"
        },
        "id": "VSSkPTRlxP8F",
        "outputId": "40554f01-8f05-49f3-c030-6e2f8dcbc921"
      },
      "outputs": [
        {
          "name": "stdout",
          "output_type": "stream",
          "text": [
            "Testing classification:\n",
            "Result: Employment\n",
            "\n",
            "Testing social media generation:\n",
            "Post: Please be advised that our offices will be closed in observance of the New Year holiday. This closure affects all agency services and locations. We will be closed on January 1st and will resume normal operations on January 2nd.\n",
            "\n",
            "We wish everyone a safe and happy New Year! As you celebrate, please remember to designate a driver if consuming alcohol and be mindful of fireworks safety.\n",
            "\n",
            "#NewYear #HolidayClosure #GovernmentServices\n"
          ]
        }
      ],
      "source": [
        "print(\"Testing classification:\")\n",
        "result = classify_question(\"How do I apply for a city job?\")\n",
        "print(f\"Result: {result}\")\n",
        "# Testing the posts\n",
        "print(\"\\nTesting social media generation:\")\n",
        "social_result = generate_social_media_post(\"holiday\", {\"holiday\": \"New Year\", \"office_status\": \"closed\"})\n",
        "if social_result[\"status\"] == \"success\":\n",
        "    print(f\"Post: {social_result['generated_content']['posts']['twitter']}\")"
      ]
    },
    {
      "cell_type": "code",
      "execution_count": 16,
      "id": "SVo-4qtMxTex",
      "metadata": {
        "colab": {
          "base_uri": "https://localhost:8080/"
        },
        "id": "SVo-4qtMxTex",
        "outputId": "7077d885-98bf-4301-aac5-c1ba528b642d"
      },
      "outputs": [
        {
          "name": "stdout",
          "output_type": "stream",
          "text": [
            "\n",
            "Running pytest tests:\n",
            "All pytest tests passed!\n"
          ]
        }
      ],
      "source": [
        "import pytest\n",
        "\n",
        "class TestQuestionClassifier:\n",
        "\n",
        "    def test_employment_category(self):\n",
        "        question = \"How do I apply for a government job?\"\n",
        "        category = classify_question(question)\n",
        "        assert category == \"Employment\"\n",
        "\n",
        "    def test_emergency_services_category(self):\n",
        "        question = \"What is the ambulance contact number?\"\n",
        "        category = classify_question(question)\n",
        "        assert category == \"Emergency Services\"\n",
        "\n",
        "    def test_tax_related_category(self):\n",
        "        question = \"How do I file my income tax returns?\"\n",
        "        category = classify_question(question)\n",
        "        assert category == \"Tax Related\"\n",
        "\n",
        "    def test_general_info_category(self):\n",
        "        question = \"What are the office hours?\"\n",
        "        category = classify_question(question)\n",
        "        assert category == \"General Information\"\n",
        "\n",
        "    def test_default_to_general_information(self):\n",
        "        question = \"Can you help me with this?\"\n",
        "        category = classify_question(question)\n",
        "        assert category == \"General Information\"\n",
        "\n",
        "class TestSocialMediaGenerator:\n",
        "\n",
        "    def test_holiday_announcement(self):\n",
        "        details = {\"holiday\": \"Memorial Day\", \"office_status\": \"closed\"}\n",
        "        result = generate_social_media_post(\"holiday\", details)\n",
        "        assert result[\"status\"] == \"success\"\n",
        "        assert \"twitter\" in result[\"generated_content\"][\"posts\"]\n",
        "\n",
        "    def test_error_handling(self):\n",
        "        result = generate_social_media_post(None, None)\n",
        "        assert \"status\" in result\n",
        "\n",
        "# Run pytest tests\n",
        "def run_tests():\n",
        "    print(\"\\nRunning pytest tests:\")\n",
        "    test_class = TestQuestionClassifier()\n",
        "    test_class.test_employment_category()\n",
        "    test_class.test_emergency_services_category()\n",
        "    test_class.test_tax_related_category()\n",
        "    test_class.test_general_info_category()\n",
        "    test_class.test_default_to_general_information()\n",
        "\n",
        "    social_test = TestSocialMediaGenerator()\n",
        "    social_test.test_holiday_announcement()\n",
        "    social_test.test_error_handling()\n",
        "\n",
        "    print(\"All pytest tests passed!\")\n",
        "\n",
        "run_tests()"
      ]
    },
    {
      "cell_type": "code",
      "execution_count": 17,
      "id": "5rQGlYm0xW_5",
      "metadata": {
        "colab": {
          "base_uri": "https://localhost:8080/",
          "height": 313
        },
        "id": "5rQGlYm0xW_5",
        "outputId": "d7e92fd1-78e1-4cb4-9e30-f3c4c381d52c"
      },
      "outputs": [
        {
          "name": "stdout",
          "output_type": "stream",
          "text": [
            "\n",
            "Running evaluation...\n"
          ]
        },
        {
          "data": {
            "text/html": [
              "\n",
              "        \n",
              "    <link rel=\"stylesheet\" href=\"https://fonts.googleapis.com/icon?family=Material+Icons\">\n",
              "    <style>\n",
              "      .view-vertex-resource,\n",
              "      .view-vertex-resource:hover,\n",
              "      .view-vertex-resource:visited {\n",
              "        position: relative;\n",
              "        display: inline-flex;\n",
              "        flex-direction: row;\n",
              "        height: 32px;\n",
              "        padding: 0 12px;\n",
              "          margin: 4px 18px;\n",
              "        gap: 4px;\n",
              "        border-radius: 4px;\n",
              "\n",
              "        align-items: center;\n",
              "        justify-content: center;\n",
              "        background-color: rgb(255, 255, 255);\n",
              "        color: rgb(51, 103, 214);\n",
              "\n",
              "        font-family: Roboto,\"Helvetica Neue\",sans-serif;\n",
              "        font-size: 13px;\n",
              "        font-weight: 500;\n",
              "        text-transform: uppercase;\n",
              "        text-decoration: none !important;\n",
              "\n",
              "        transition: box-shadow 280ms cubic-bezier(0.4, 0, 0.2, 1) 0s;\n",
              "        box-shadow: 0px 3px 1px -2px rgba(0,0,0,0.2), 0px 2px 2px 0px rgba(0,0,0,0.14), 0px 1px 5px 0px rgba(0,0,0,0.12);\n",
              "      }\n",
              "      .view-vertex-resource:active {\n",
              "        box-shadow: 0px 5px 5px -3px rgba(0,0,0,0.2),0px 8px 10px 1px rgba(0,0,0,0.14),0px 3px 14px 2px rgba(0,0,0,0.12);\n",
              "      }\n",
              "      .view-vertex-resource:active .view-vertex-ripple::before {\n",
              "        position: absolute;\n",
              "        top: 0;\n",
              "        bottom: 0;\n",
              "        left: 0;\n",
              "        right: 0;\n",
              "        border-radius: 4px;\n",
              "        pointer-events: none;\n",
              "\n",
              "        content: '';\n",
              "        background-color: rgb(51, 103, 214);\n",
              "        opacity: 0.12;\n",
              "      }\n",
              "      .view-vertex-icon {\n",
              "        font-size: 18px;\n",
              "      }\n",
              "    </style>\n",
              "  \n",
              "        <a class=\"view-vertex-resource\" id=\"view-vertex-resource-8497556d-fcb3-4947-843e-a21bd0e9c752\" href=\"#view-view-vertex-resource-8497556d-fcb3-4947-843e-a21bd0e9c752\">\n",
              "          <span class=\"material-icons view-vertex-icon\">science</span>\n",
              "          <span>View Experiment</span>\n",
              "        </a>\n",
              "        \n",
              "        <script>\n",
              "          (function () {\n",
              "            const link = document.getElementById('view-vertex-resource-8497556d-fcb3-4947-843e-a21bd0e9c752');\n",
              "            link.addEventListener('click', (e) => {\n",
              "              if (window.google?.colab?.openUrl) {\n",
              "                window.google.colab.openUrl('https://console.cloud.google.com/vertex-ai/experiments/locations/us-central1/experiments/social-media-evaluation/runs?project=qwiklabs-gcp-02-79b6e8a77529');\n",
              "              } else {\n",
              "                window.open('https://console.cloud.google.com/vertex-ai/experiments/locations/us-central1/experiments/social-media-evaluation/runs?project=qwiklabs-gcp-02-79b6e8a77529', '_blank');\n",
              "              }\n",
              "              e.stopPropagation();\n",
              "              e.preventDefault();\n",
              "            });\n",
              "          })();\n",
              "        </script>\n",
              "    "
            ],
            "text/plain": [
              "<IPython.core.display.HTML object>"
            ]
          },
          "metadata": {},
          "output_type": "display_data"
        },
        {
          "name": "stderr",
          "output_type": "stream",
          "text": [
            "INFO:google.cloud.aiplatform.metadata.experiment_resources:Associating projects/422208597976/locations/us-central1/metadataStores/default/contexts/social-media-evaluation-7d1aa154-5d09-4d10-9604-7c8d9927d316 to Experiment: social-media-evaluation\n"
          ]
        },
        {
          "data": {
            "text/html": [
              "\n",
              "        \n",
              "    <link rel=\"stylesheet\" href=\"https://fonts.googleapis.com/icon?family=Material+Icons\">\n",
              "    <style>\n",
              "      .view-vertex-resource,\n",
              "      .view-vertex-resource:hover,\n",
              "      .view-vertex-resource:visited {\n",
              "        position: relative;\n",
              "        display: inline-flex;\n",
              "        flex-direction: row;\n",
              "        height: 32px;\n",
              "        padding: 0 12px;\n",
              "          margin: 4px 18px;\n",
              "        gap: 4px;\n",
              "        border-radius: 4px;\n",
              "\n",
              "        align-items: center;\n",
              "        justify-content: center;\n",
              "        background-color: rgb(255, 255, 255);\n",
              "        color: rgb(51, 103, 214);\n",
              "\n",
              "        font-family: Roboto,\"Helvetica Neue\",sans-serif;\n",
              "        font-size: 13px;\n",
              "        font-weight: 500;\n",
              "        text-transform: uppercase;\n",
              "        text-decoration: none !important;\n",
              "\n",
              "        transition: box-shadow 280ms cubic-bezier(0.4, 0, 0.2, 1) 0s;\n",
              "        box-shadow: 0px 3px 1px -2px rgba(0,0,0,0.2), 0px 2px 2px 0px rgba(0,0,0,0.14), 0px 1px 5px 0px rgba(0,0,0,0.12);\n",
              "      }\n",
              "      .view-vertex-resource:active {\n",
              "        box-shadow: 0px 5px 5px -3px rgba(0,0,0,0.2),0px 8px 10px 1px rgba(0,0,0,0.14),0px 3px 14px 2px rgba(0,0,0,0.12);\n",
              "      }\n",
              "      .view-vertex-resource:active .view-vertex-ripple::before {\n",
              "        position: absolute;\n",
              "        top: 0;\n",
              "        bottom: 0;\n",
              "        left: 0;\n",
              "        right: 0;\n",
              "        border-radius: 4px;\n",
              "        pointer-events: none;\n",
              "\n",
              "        content: '';\n",
              "        background-color: rgb(51, 103, 214);\n",
              "        opacity: 0.12;\n",
              "      }\n",
              "      .view-vertex-icon {\n",
              "        font-size: 18px;\n",
              "      }\n",
              "    </style>\n",
              "  \n",
              "        <a class=\"view-vertex-resource\" id=\"view-vertex-resource-803679ff-61c3-446f-9953-3422cc6fb4ee\" href=\"#view-view-vertex-resource-803679ff-61c3-446f-9953-3422cc6fb4ee\">\n",
              "          <span class=\"material-icons view-vertex-icon\">science</span>\n",
              "          <span>View Experiment Run</span>\n",
              "        </a>\n",
              "        \n",
              "        <script>\n",
              "          (function () {\n",
              "            const link = document.getElementById('view-vertex-resource-803679ff-61c3-446f-9953-3422cc6fb4ee');\n",
              "            link.addEventListener('click', (e) => {\n",
              "              if (window.google?.colab?.openUrl) {\n",
              "                window.google.colab.openUrl('https://console.cloud.google.com/vertex-ai/experiments/locations/us-central1/experiments/social-media-evaluation/runs/social-media-evaluation-7d1aa154-5d09-4d10-9604-7c8d9927d316?project=qwiklabs-gcp-02-79b6e8a77529');\n",
              "              } else {\n",
              "                window.open('https://console.cloud.google.com/vertex-ai/experiments/locations/us-central1/experiments/social-media-evaluation/runs/social-media-evaluation-7d1aa154-5d09-4d10-9604-7c8d9927d316?project=qwiklabs-gcp-02-79b6e8a77529', '_blank');\n",
              "              }\n",
              "              e.stopPropagation();\n",
              "              e.preventDefault();\n",
              "            });\n",
              "          })();\n",
              "        </script>\n",
              "    "
            ],
            "text/plain": [
              "<IPython.core.display.HTML object>"
            ]
          },
          "metadata": {},
          "output_type": "display_data"
        },
        {
          "name": "stderr",
          "output_type": "stream",
          "text": [
            "INFO:vertexai.evaluation.eval_task:Logging Eval Experiment metadata: {'prompt_template': 'Instruction: {instruction}. Context: {context}. Response: {response}'}\n",
            "INFO:vertexai.evaluation._evaluation:Assembling prompts from the `prompt_template`. The `prompt` column in the `EvalResult.metrics_table` has the assembled prompts used for model response generation.\n",
            "INFO:vertexai.evaluation._evaluation:Computing metrics with a total of 9 Vertex Gen AI Evaluation Service API requests.\n",
            "100%|██████████| 9/9 [00:08<00:00,  1.05it/s]\n",
            "INFO:vertexai.evaluation._evaluation:All 9 metric requests are successfully computed.\n",
            "INFO:vertexai.evaluation._evaluation:Evaluation Took:8.589523303999158 seconds\n"
          ]
        },
        {
          "name": "stdout",
          "output_type": "stream",
          "text": [
            "✅ Evaluation complete!\n",
            "🎉 All functions tested and evaluated successfully!\n"
          ]
        }
      ],
      "source": [
        "social_media_system_prompt = \"\"\"\n",
        "You are a communications assistant for a government agency. Your task is to draft clear, concise, and polite social media posts for official public announcements.\n",
        "\n",
        "Instructions:\n",
        "1. Keep the message under 200 words.\n",
        "2. Use a calm, professional, and reassuring tone.\n",
        "3. Clearly state what the announcement is about, who it affects, and when it applies.\n",
        "4. Include basic safety tips or recommended actions if applicable.\n",
        "5. Use simple, accessible language.\n",
        "6. End with 2-4 relevant hashtags.\n",
        "7. Do not use emojis.\n",
        "\n",
        "Only return the post text with hashtags at the end.\n",
        "\"\"\"\n",
        "\n",
        "posts_data = [\n",
        "    {\n",
        "        \"prompt\": \"Flood warnings issued for Mumbai from July 5 to July 7. Residents advised to stay alert.\",\n",
        "        \"post\": \"Flood warnings in Mumbai from July 5-7. Please stay alert and avoid travel unless necessary. Stay safe everyone! #MumbaiFloods #StaySafe\"\n",
        "    },\n",
        "    {\n",
        "        \"prompt\": \"City hospitals offer free vaccination camps on August 1 and August 2.\",\n",
        "        \"post\": \"Free vaccines at city hospitals on Aug 1 & 2. Don't miss it! Protect yourself and loved ones. #VaccinationDrive #HealthFirst\"\n",
        "    },\n",
        "    {\n",
        "        \"prompt\": \"All markets in Hyderabad closed on September 10 for Ganesh Chaturthi.\",\n",
        "        \"post\": \"Markets closed Sept 10 for Ganesh Chaturthi. Plan your shopping ahead. #GaneshChaturthi #Hyderabad\"\n",
        "    }\n",
        "]\n",
        "\n",
        "eval_dataset = pd.DataFrame([\n",
        "    {\n",
        "        \"instruction\": social_media_system_prompt,\n",
        "        \"context\": f\"announcement: {item['prompt']}\",\n",
        "        \"response\": item[\"post\"],\n",
        "    } for item in posts_data\n",
        "])\n",
        "\n",
        "eval_task = EvalTask(\n",
        "    dataset=eval_dataset,\n",
        "    metrics=[\n",
        "        MetricPromptTemplateExamples.Pointwise.GROUNDEDNESS,\n",
        "        MetricPromptTemplateExamples.Pointwise.INSTRUCTION_FOLLOWING,\n",
        "        MetricPromptTemplateExamples.Pointwise.SAFETY\n",
        "    ],\n",
        "    experiment=\"social-media-evaluation\"\n",
        ")\n",
        "\n",
        "print(\"\\nRunning evaluation...\")\n",
        "result = eval_task.evaluate(\n",
        "    prompt_template=\"Instruction: {instruction}. Context: {context}. Response: {response}\"\n",
        ")\n",
        "\n",
        "print(\"Evaluation complete!\")\n",
        "print(\"All functions tested and evaluated successfully!\")"
      ]
    }
  ],
  "metadata": {
    "colab": {
      "name": "student-02-ee82d0e93d69 (Jun 16, 2025, 6:12:26 PM)",
      "provenance": []
    },
    "kernelspec": {
      "display_name": "Python 3",
      "language": "python",
      "name": "python3"
    },
    "language_info": {
      "codemirror_mode": {
        "name": "ipython",
        "version": 3
      },
      "file_extension": ".py",
      "mimetype": "text/x-python",
      "name": "python",
      "nbconvert_exporter": "python",
      "pygments_lexer": "ipython3",
      "version": "3.10.10"
    }
  },
  "nbformat": 4,
  "nbformat_minor": 5
}
